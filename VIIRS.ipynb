{
 "cells": [
  {
   "cell_type": "markdown",
   "id": "bc180095-8e1b-4255-8461-7de44d8f7c32",
   "metadata": {
    "jp-MarkdownHeadingCollapsed": true
   },
   "source": [
    "# Drought Monitoring Using NDVI and EVI Using VNP13A1: VIIRS Vegetation Indices 16-Day 500m\n",
    "\n",
    "Author - Nitin Magima\n",
    "\n",
    "Date - Feb 2024\n",
    "\n",
    "Version - 1.0\n",
    "\n",
    "The jupyter notebook aims to generate seasonal anomaly maps for each n-day period of the rainy seasons in a country. It uses VIIRS product #13, Gridded Vegetation Indices (VNP13 Level 3 suite). The level 3 gridded vegetation indices are standard products designed to extend the significant VI time series derived from AVHRR and MODIS (Huete et al. 2002). The level 3 spatial and temporal gridded vegetation index products are composites of daily surface reflectances. They are generated at 500m, 1km, and 0.05o (~5.6km) every 8 days (quasi), 16 days, and calendar month. \n",
    "\n",
    "The standard Normalized Difference Vegetation Index (NDVI), referred to as the “continuity index” to the existing NOAA-AVHRR and MODIS derived NDVI. At the time of S-NPP launch S-NPP VIIRS VI User Guide-V2.1.1 8  (2011) there was nearly a 30-year NDVI record from AVHRR and MODIS (1981- and 2000-). VIIRS NDVI will extend this long term data record for use in operational monitoring studies.\n",
    "\n",
    "The enhanced vegetation index (EVI) was developed to optimize the vegetation signal with improved sensitivity in high biomass regions and improved vegetation monitoring through a de- coupling of the canopy background signal and a reduction in atmosphere influences (Huete et al. 1997; Huete et al. 2002). \n",
    "\n",
    "Google Earth Engine (GEE) is a web platform for cloud-based processing of remote sensing data on a large scale. The advantage lies in its remarkable computation speed as processing is outsourced to Google servers. The platform provides a variety of constantly updated datasets; no download of raw imagery is required. While it is free of charge, one still needs to activate access to Google Earth Engine with a valid Google account.\n",
    "\n",
    "\n",
    "DISCLAIMER\n",
    "\n",
    "This is a set of scripts  shared for educational purposes only.  Anyone who uses this code or its\n",
    "functionality or structure, assumes full liability and credits the author.\n",
    "\n",
    "Map Disclaimer\n",
    "\n",
    "The designations employed and the presentation of the material on this map do not imply the expression \n",
    "of any opinion whatsoever on the part of the author concerning the legal status of any country, territory, city or area or of its authorities, or concerning the delimitation of its \n",
    "frontiers or boundaries.\n",
    "\n",
    "Sources\n",
    "- [LANDDATAOPERATIONALPRODUCTSEVALUATION MODIS/VIIRS LAND PRODUCT QUALITY ASSESSMENT](https://landweb.modaps.eosdis.nasa.gov/browse?sensor=VIIRS&sat=SNPP)\n",
    "- [Vegetation Index Product Suite User Guide & Abridged Algorithm Theoretical Basis Document](https://lpdaac.usgs.gov/documents/1372/VNP13_User_Guide_ATBD_V2.1.2.pdf)"
   ]
  },
  {
   "cell_type": "markdown",
   "id": "fdd7bf77-1e08-4147-92ce-cc8873175911",
   "metadata": {},
   "source": [
    "# Google Earth Engine Setup"
   ]
  },
  {
   "cell_type": "markdown",
   "id": "cb047661-d06f-4e53-ac76-eb7185363244",
   "metadata": {},
   "source": [
    "### Install Geemap"
   ]
  },
  {
   "cell_type": "code",
   "execution_count": null,
   "id": "6dfeaf29-982a-4806-95e8-862ff3cf91e3",
   "metadata": {},
   "outputs": [],
   "source": [
    "%pip install -U \"geemap[workshop]\""
   ]
  },
  {
   "cell_type": "markdown",
   "id": "9277d0f7-1f6f-459b-8d80-9ede43e043a2",
   "metadata": {},
   "source": [
    "### Import libraries\n",
    "\n",
    "Import the earthengine-api and geemap."
   ]
  },
  {
   "cell_type": "code",
   "execution_count": 109,
   "id": "5026776c-eb76-4c3e-9645-d58615dab903",
   "metadata": {},
   "outputs": [
    {
     "data": {
      "text/html": [
       "\n",
       "            <style>\n",
       "                .geemap-dark {\n",
       "                    --jp-widgets-color: white;\n",
       "                    --jp-widgets-label-color: white;\n",
       "                    --jp-ui-font-color1: white;\n",
       "                    --jp-layout-color2: #454545;\n",
       "                    background-color: #383838;\n",
       "                }\n",
       "                    \n",
       "                .geemap-dark .jupyter-button {\n",
       "                    --jp-layout-color3: #383838;\n",
       "                }\n",
       "                \n",
       "                .geemap-colab {\n",
       "                    background-color: var(--colab-primary-surface-color, white);\n",
       "                }\n",
       "                    \n",
       "                .geemap-colab .jupyter-button {\n",
       "                    --jp-layout-color3: var(--colab-primary-surface-color, white);\n",
       "                }\n",
       "            </style>\n",
       "            "
      ],
      "text/plain": [
       "<IPython.core.display.HTML object>"
      ]
     },
     "metadata": {},
     "output_type": "display_data"
    }
   ],
   "source": [
    "import ee\n",
    "import geemap"
   ]
  },
  {
   "cell_type": "markdown",
   "id": "bc1f9c4d-0687-4017-993e-6316cde745b2",
   "metadata": {},
   "source": [
    "### Authenticate and initialize Earth Engine\n",
    "\n",
    "You will need to create a [Google Cloud Project](https://console.cloud.google.com/projectcreate) and enable the [Earth Engine API](https://console.cloud.google.com/apis/api/earthengine.googleapis.com) for the project. You can find detailed instructions [here](https://book.geemap.org/chapters/01_introduction.html#earth-engine-authentication)."
   ]
  },
  {
   "cell_type": "code",
   "execution_count": 110,
   "id": "0069b97b-a861-4f2e-a40b-132a3dda9ac6",
   "metadata": {},
   "outputs": [
    {
     "data": {
      "text/html": [
       "\n",
       "            <style>\n",
       "                .geemap-dark {\n",
       "                    --jp-widgets-color: white;\n",
       "                    --jp-widgets-label-color: white;\n",
       "                    --jp-ui-font-color1: white;\n",
       "                    --jp-layout-color2: #454545;\n",
       "                    background-color: #383838;\n",
       "                }\n",
       "                    \n",
       "                .geemap-dark .jupyter-button {\n",
       "                    --jp-layout-color3: #383838;\n",
       "                }\n",
       "                \n",
       "                .geemap-colab {\n",
       "                    background-color: var(--colab-primary-surface-color, white);\n",
       "                }\n",
       "                    \n",
       "                .geemap-colab .jupyter-button {\n",
       "                    --jp-layout-color3: var(--colab-primary-surface-color, white);\n",
       "                }\n",
       "            </style>\n",
       "            "
      ],
      "text/plain": [
       "<IPython.core.display.HTML object>"
      ]
     },
     "metadata": {},
     "output_type": "display_data"
    },
    {
     "data": {
      "text/plain": [
       "True"
      ]
     },
     "execution_count": 110,
     "metadata": {},
     "output_type": "execute_result"
    }
   ],
   "source": [
    "ee.Authenticate()"
   ]
  },
  {
   "cell_type": "markdown",
   "id": "00beeb9b-cca2-4470-b560-de4b2d3331b5",
   "metadata": {},
   "source": [
    "Update the project below."
   ]
  },
  {
   "cell_type": "code",
   "execution_count": 112,
   "id": "95a21459-2559-497a-a35c-fa0e1497fc32",
   "metadata": {},
   "outputs": [
    {
     "data": {
      "text/html": [
       "\n",
       "            <style>\n",
       "                .geemap-dark {\n",
       "                    --jp-widgets-color: white;\n",
       "                    --jp-widgets-label-color: white;\n",
       "                    --jp-ui-font-color1: white;\n",
       "                    --jp-layout-color2: #454545;\n",
       "                    background-color: #383838;\n",
       "                }\n",
       "                    \n",
       "                .geemap-dark .jupyter-button {\n",
       "                    --jp-layout-color3: #383838;\n",
       "                }\n",
       "                \n",
       "                .geemap-colab {\n",
       "                    background-color: var(--colab-primary-surface-color, white);\n",
       "                }\n",
       "                    \n",
       "                .geemap-colab .jupyter-button {\n",
       "                    --jp-layout-color3: var(--colab-primary-surface-color, white);\n",
       "                }\n",
       "            </style>\n",
       "            "
      ],
      "text/plain": [
       "<IPython.core.display.HTML object>"
      ]
     },
     "metadata": {},
     "output_type": "display_data"
    }
   ],
   "source": [
    "ee.Initialize(project=\"ee-training-412816\")"
   ]
  },
  {
   "cell_type": "markdown",
   "id": "287a4b18-473e-43a2-b1d4-52dacb81e962",
   "metadata": {},
   "source": [
    "## Initialize Map"
   ]
  },
  {
   "cell_type": "code",
   "execution_count": 113,
   "id": "e47189ba-9c3f-4236-b20a-79477caf5f63",
   "metadata": {},
   "outputs": [
    {
     "data": {
      "text/html": [
       "\n",
       "            <style>\n",
       "                .geemap-dark {\n",
       "                    --jp-widgets-color: white;\n",
       "                    --jp-widgets-label-color: white;\n",
       "                    --jp-ui-font-color1: white;\n",
       "                    --jp-layout-color2: #454545;\n",
       "                    background-color: #383838;\n",
       "                }\n",
       "                    \n",
       "                .geemap-dark .jupyter-button {\n",
       "                    --jp-layout-color3: #383838;\n",
       "                }\n",
       "                \n",
       "                .geemap-colab {\n",
       "                    background-color: var(--colab-primary-surface-color, white);\n",
       "                }\n",
       "                    \n",
       "                .geemap-colab .jupyter-button {\n",
       "                    --jp-layout-color3: var(--colab-primary-surface-color, white);\n",
       "                }\n",
       "            </style>\n",
       "            "
      ],
      "text/plain": [
       "<IPython.core.display.HTML object>"
      ]
     },
     "metadata": {},
     "output_type": "display_data"
    },
    {
     "data": {
      "application/vnd.jupyter.widget-view+json": {
       "model_id": "3990f3a21f354c0f8a7c3282560ee7ea",
       "version_major": 2,
       "version_minor": 0
      },
      "text/plain": [
       "Map(center=[0, 0], controls=(WidgetControl(options=['position', 'transparent_bg'], widget=SearchDataGUI(childr…"
      ]
     },
     "execution_count": 113,
     "metadata": {},
     "output_type": "execute_result"
    }
   ],
   "source": [
    "# Creating a map\n",
    "m = geemap.Map(basemap='WorldTopoMap')\n",
    "m"
   ]
  },
  {
   "cell_type": "markdown",
   "id": "037a3e5f-a43a-402f-9dd1-39beccd7523f",
   "metadata": {},
   "source": [
    "# NDVI and EVI Calculation Setup"
   ]
  },
  {
   "cell_type": "markdown",
   "id": "efa1c51f-e35c-49b9-9de9-0937de026a64",
   "metadata": {},
   "source": [
    "## Select Your Study Area"
   ]
  },
  {
   "cell_type": "markdown",
   "id": "f17ae953-956c-40a1-af70-6dffeacebe84",
   "metadata": {},
   "source": [
    "We use the [FAO GAUL: Global Administrative Unit Layers](https://data.apps.fao.org/catalog/dataset/global-administrative-unit-layers-gaul) for country focused analysis.\n",
    "\n",
    "The Global Administrative Unit Layers (GAUL) compiles and disseminates the best available information on administrative units for all the countries in the world, providing a contribution to the standardization of the spatial dataset representing administrative units. The GAUL always maintains global layers with a unified coding system at country, first (e.g. departments), and second administrative levels (e.g. districts). Where data is available, it provides layers on a country by country basis down to third, fourth, and lowers levels.\n",
    "\n",
    "You can use the drawing tools to draw a polygon on the map above as well."
   ]
  },
  {
   "cell_type": "markdown",
   "id": "d080a8ab-facb-4c8f-aa8d-c6b7a5f94b15",
   "metadata": {},
   "source": [
    "Please enter the country name and admin level below. You can refer to the links below to help you. Use the \"ADM0_NAME\" column to use the correct name or spelling for a country.\n",
    "\n",
    "1. [FAO GAUL: Global Administrative Unit Layers Admin 0 Reference](https://www.fao.org/in-action/countrystat/news-and-events/events/training-material/gaul-codes2014/en/)\n",
    "2. [FAO GAUL: Global Administrative Unit Layers](https://data.apps.fao.org/catalog/dataset/gaul-codes)"
   ]
  },
  {
   "cell_type": "code",
   "execution_count": 114,
   "id": "0967ac94-be45-4bfd-aad7-e7bacef854e1",
   "metadata": {},
   "outputs": [
    {
     "data": {
      "text/html": [
       "\n",
       "            <style>\n",
       "                .geemap-dark {\n",
       "                    --jp-widgets-color: white;\n",
       "                    --jp-widgets-label-color: white;\n",
       "                    --jp-ui-font-color1: white;\n",
       "                    --jp-layout-color2: #454545;\n",
       "                    background-color: #383838;\n",
       "                }\n",
       "                    \n",
       "                .geemap-dark .jupyter-button {\n",
       "                    --jp-layout-color3: #383838;\n",
       "                }\n",
       "                \n",
       "                .geemap-colab {\n",
       "                    background-color: var(--colab-primary-surface-color, white);\n",
       "                }\n",
       "                    \n",
       "                .geemap-colab .jupyter-button {\n",
       "                    --jp-layout-color3: var(--colab-primary-surface-color, white);\n",
       "                }\n",
       "            </style>\n",
       "            "
      ],
      "text/plain": [
       "<IPython.core.display.HTML object>"
      ]
     },
     "metadata": {},
     "output_type": "display_data"
    }
   ],
   "source": [
    "country_name = 'Madagascar'\n",
    "admin_level = 'level1' #use 'level0' or 'level1'"
   ]
  },
  {
   "cell_type": "code",
   "execution_count": 115,
   "id": "7c107262-c295-4a67-8e1a-5ec457441ce3",
   "metadata": {},
   "outputs": [
    {
     "data": {
      "text/html": [
       "\n",
       "            <style>\n",
       "                .geemap-dark {\n",
       "                    --jp-widgets-color: white;\n",
       "                    --jp-widgets-label-color: white;\n",
       "                    --jp-ui-font-color1: white;\n",
       "                    --jp-layout-color2: #454545;\n",
       "                    background-color: #383838;\n",
       "                }\n",
       "                    \n",
       "                .geemap-dark .jupyter-button {\n",
       "                    --jp-layout-color3: #383838;\n",
       "                }\n",
       "                \n",
       "                .geemap-colab {\n",
       "                    background-color: var(--colab-primary-surface-color, white);\n",
       "                }\n",
       "                    \n",
       "                .geemap-colab .jupyter-button {\n",
       "                    --jp-layout-color3: var(--colab-primary-surface-color, white);\n",
       "                }\n",
       "            </style>\n",
       "            "
      ],
      "text/plain": [
       "<IPython.core.display.HTML object>"
      ]
     },
     "metadata": {},
     "output_type": "display_data"
    },
    {
     "name": "stdout",
     "output_type": "stream",
     "text": [
      "ROI type: FeatureCollection\n"
     ]
    }
   ],
   "source": [
    "roi = m.user_roi\n",
    "\n",
    "if roi is None:\n",
    "    roi = ee.FeatureCollection(f\"FAO/GAUL/2015/{admin_level}\")\n",
    "    roi = roi.filter(ee.Filter.eq('ADM0_NAME', country_name))\n",
    "    \n",
    "    # Define style parameters for visualization\n",
    "    styleParams = {\n",
    "        'fillColor': 'b5ffb4',\n",
    "        'color': '00909F',\n",
    "        'width': 1.0,\n",
    "    }\n",
    "    \n",
    "    # Create a styled version of the ROI for visualization purposes only\n",
    "    styledRoi = roi.style(**styleParams)\n",
    "    \n",
    "    # Add the styled ROI to the map for visualization\n",
    "    m.addLayer(styledRoi, {}, country_name)\n",
    "\n",
    "# Use 'roi' for clipping and other operations\n",
    "# Do not use 'styledRoi' for operations other than visualization\n",
    "\n",
    "# Check the type of 'roi', it should not return 'Image'\n",
    "print('ROI type:', roi.getInfo()['type'])  # Should print 'FeatureCollection'"
   ]
  },
  {
   "cell_type": "markdown",
   "id": "fc17389f-689c-4c1e-8c32-929c5f82f5f6",
   "metadata": {},
   "source": [
    "## Load NDVI and EVI"
   ]
  },
  {
   "cell_type": "code",
   "execution_count": 116,
   "id": "d53b57f0-f822-4908-85c6-566a5cf60440",
   "metadata": {},
   "outputs": [
    {
     "data": {
      "text/html": [
       "\n",
       "            <style>\n",
       "                .geemap-dark {\n",
       "                    --jp-widgets-color: white;\n",
       "                    --jp-widgets-label-color: white;\n",
       "                    --jp-ui-font-color1: white;\n",
       "                    --jp-layout-color2: #454545;\n",
       "                    background-color: #383838;\n",
       "                }\n",
       "                    \n",
       "                .geemap-dark .jupyter-button {\n",
       "                    --jp-layout-color3: #383838;\n",
       "                }\n",
       "                \n",
       "                .geemap-colab {\n",
       "                    background-color: var(--colab-primary-surface-color, white);\n",
       "                }\n",
       "                    \n",
       "                .geemap-colab .jupyter-button {\n",
       "                    --jp-layout-color3: var(--colab-primary-surface-color, white);\n",
       "                }\n",
       "            </style>\n",
       "            "
      ],
      "text/plain": [
       "<IPython.core.display.HTML object>"
      ]
     },
     "metadata": {},
     "output_type": "display_data"
    }
   ],
   "source": [
    "# Load the VIIRS Vegetation Indices dataset.\n",
    "viirs_dataset = ee.ImageCollection('NOAA/VIIRS/001/VNP13A1')\n",
    "\n",
    "# Directly select the EVI, EVI2, and NDVI bands from the dataset.\n",
    "evi_band = 'EVI'  # 3 band Enhanced Vegetation Index\n",
    "evi2_band = 'EVI2'  # 2 band Enhanced Vegetation Index\n",
    "ndvi_band = 'NDVI'  # Normalized Difference Vegetation Index\n",
    "\n",
    "selected_bands = viirs_dataset.select([evi_band, evi2_band, ndvi_band])"
   ]
  },
  {
   "cell_type": "markdown",
   "id": "4ca20fb9-8905-4451-87e0-036fa7d87f4e",
   "metadata": {},
   "source": [
    "## Visualizing Different Bands"
   ]
  },
  {
   "cell_type": "markdown",
   "id": "328b523e-7ac7-4e4d-84dd-47082202a95b",
   "metadata": {},
   "source": [
    "### NDVI"
   ]
  },
  {
   "cell_type": "code",
   "execution_count": 117,
   "id": "8063b3e1-be91-4178-baac-833b7984deee",
   "metadata": {},
   "outputs": [
    {
     "data": {
      "text/html": [
       "\n",
       "            <style>\n",
       "                .geemap-dark {\n",
       "                    --jp-widgets-color: white;\n",
       "                    --jp-widgets-label-color: white;\n",
       "                    --jp-ui-font-color1: white;\n",
       "                    --jp-layout-color2: #454545;\n",
       "                    background-color: #383838;\n",
       "                }\n",
       "                    \n",
       "                .geemap-dark .jupyter-button {\n",
       "                    --jp-layout-color3: #383838;\n",
       "                }\n",
       "                \n",
       "                .geemap-colab {\n",
       "                    background-color: var(--colab-primary-surface-color, white);\n",
       "                }\n",
       "                    \n",
       "                .geemap-colab .jupyter-button {\n",
       "                    --jp-layout-color3: var(--colab-primary-surface-color, white);\n",
       "                }\n",
       "            </style>\n",
       "            "
      ],
      "text/plain": [
       "<IPython.core.display.HTML object>"
      ]
     },
     "metadata": {},
     "output_type": "display_data"
    },
    {
     "data": {
      "text/html": [
       "<div><style>:root {\n",
       "  --font-color-primary: var(--jp-content-font-color0, rgba(0, 0, 0, 1));\n",
       "  --font-color-secondary: var(--jp-content-font-color2, rgba(0, 0, 0, 0.6));\n",
       "  --font-color-accent: rgba(123, 31, 162, 1);\n",
       "  --border-color: var(--jp-border-color2, #e0e0e0);\n",
       "  --background-color: var(--jp-layout-color0, white);\n",
       "  --background-color-row-even: var(--jp-layout-color1, white);\n",
       "  --background-color-row-odd: var(--jp-layout-color2, #eeeeee);\n",
       "}\n",
       "\n",
       "html[theme=\"dark\"],\n",
       "body[data-theme=\"dark\"],\n",
       "body.vscode-dark {\n",
       "  --font-color-primary: rgba(255, 255, 255, 1);\n",
       "  --font-color-secondary: rgba(255, 255, 255, 0.6);\n",
       "  --font-color-accent: rgb(173, 132, 190);\n",
       "  --border-color: #2e2e2e;\n",
       "  --background-color: #111111;\n",
       "  --background-color-row-even: #111111;\n",
       "  --background-color-row-odd: #313131;\n",
       "}\n",
       "\n",
       ".ee {\n",
       "  padding: 1em;\n",
       "  line-height: 1.5em;\n",
       "  min-width: 300px;\n",
       "  max-width: 1200px;\n",
       "  overflow-y: scroll;\n",
       "  max-height: 600px;\n",
       "  border: 1px solid var(--border-color);\n",
       "  font-family: monospace;\n",
       "}\n",
       "\n",
       ".ee li {\n",
       "  list-style-type: none;\n",
       "}\n",
       "\n",
       ".ee ul {\n",
       "  padding-left: 1.5em !important;\n",
       "  margin: 0;\n",
       "}\n",
       "\n",
       ".ee > ul {\n",
       "  padding-left: 0 !important;\n",
       "}\n",
       "\n",
       ".ee-open,\n",
       ".ee-shut {\n",
       "  color: var(--font-color-secondary);\n",
       "  cursor: pointer;\n",
       "  margin: 0;\n",
       "}\n",
       "\n",
       ".ee-open:hover,\n",
       ".ee-shut:hover {\n",
       "  color: var(--font-color-primary);\n",
       "}\n",
       "\n",
       ".ee-k {\n",
       "  color: var(--font-color-accent);\n",
       "  margin-right: 6px;\n",
       "}\n",
       "\n",
       ".ee-v {\n",
       "  color: var(--font-color-primary);\n",
       "}\n",
       "\n",
       ".ee-toggle {\n",
       "  display: none;\n",
       "}\n",
       "\n",
       ".ee-shut + ul {\n",
       "  display: none;\n",
       "}\n",
       "\n",
       ".ee-open + ul {\n",
       "  display: block;\n",
       "}\n",
       "\n",
       ".ee-shut::before {\n",
       "  display: inline-block;\n",
       "  content: \"▼\";\n",
       "  margin-right: 6px;\n",
       "  transform: rotate(-90deg);\n",
       "  transition: transform 0.2s;\n",
       "}\n",
       "\n",
       ".ee-open::before {\n",
       "  transform: rotate(0deg);\n",
       "  display: inline-block;\n",
       "  content: \"▼\";\n",
       "  margin-right: 6px;\n",
       "  transition: transform 0.2s;\n",
       "}\n",
       "</style><div class='ee'><ul><li><label class='ee-shut'>Image NOAA/VIIRS/001/VNP13A1/2022_01_01 (1 band)<input type='checkbox' class='ee-toggle'></label><ul><li><span class='ee-k'>type:</span><span class='ee-v'>Image</span></li><li><span class='ee-k'>id:</span><span class='ee-v'>NOAA/VIIRS/001/VNP13A1/2022_01_01</span></li><li><span class='ee-k'>version:</span><span class='ee-v'>1702651368274597</span></li><li><label class='ee-shut'>bands: List (1 element)<input type='checkbox' class='ee-toggle'></label><ul><li><label class='ee-shut'>0: \"NDVI\", signed int16, SR-ORG:6974, 86400x33600 px<input type='checkbox' class='ee-toggle'></label><ul><li><span class='ee-k'>id:</span><span class='ee-v'>NDVI</span></li><li><span class='ee-k'>crs:</span><span class='ee-v'>SR-ORG:6974</span></li><li><label class='ee-shut'>crs_transform: List (6 elements)<input type='checkbox' class='ee-toggle'></label><ul><li><span class='ee-k'>0:</span><span class='ee-v'>463.3127165279165</span></li><li><span class='ee-k'>1:</span><span class='ee-v'>0</span></li><li><span class='ee-k'>2:</span><span class='ee-v'>-20015109.354</span></li><li><span class='ee-k'>3:</span><span class='ee-v'>0</span></li><li><span class='ee-k'>4:</span><span class='ee-v'>-463.3127165279165</span></li><li><span class='ee-k'>5:</span><span class='ee-v'>8895604.157333</span></li></ul></li><li><label class='ee-shut'>data_type: signed int16<input type='checkbox' class='ee-toggle'></label><ul><li><span class='ee-k'>type:</span><span class='ee-v'>PixelType</span></li><li><span class='ee-k'>max:</span><span class='ee-v'>32767</span></li><li><span class='ee-k'>min:</span><span class='ee-v'>-32768</span></li><li><span class='ee-k'>precision:</span><span class='ee-v'>int</span></li></ul></li><li><label class='ee-shut'>dimensions: [86400, 33600]<input type='checkbox' class='ee-toggle'></label><ul><li><span class='ee-k'>0:</span><span class='ee-v'>86400</span></li><li><span class='ee-k'>1:</span><span class='ee-v'>33600</span></li></ul></li></ul></li></ul></li><li><label class='ee-shut'>properties: Object (6 properties)<input type='checkbox' class='ee-toggle'></label><ul><li><span class='ee-k'>google:max_source_file_timestamp:</span><span class='ee-v'>1642414420000</span></li><li><span class='ee-k'>system:asset_size:</span><span class='ee-v'>13845272678</span></li><li><label class='ee-shut'>system:footprint: LinearRing (5 vertices)<input type='checkbox' class='ee-toggle'></label><ul><li><span class='ee-k'>type:</span><span class='ee-v'>LinearRing</span></li><li><label class='ee-shut'>coordinates: List (5 elements)<input type='checkbox' class='ee-toggle'></label><ul><li><label class='ee-shut'>0: [-180, -90]<input type='checkbox' class='ee-toggle'></label><ul><li><span class='ee-k'>0:</span><span class='ee-v'>-180</span></li><li><span class='ee-k'>1:</span><span class='ee-v'>-90</span></li></ul></li><li><label class='ee-shut'>1: [180, -90]<input type='checkbox' class='ee-toggle'></label><ul><li><span class='ee-k'>0:</span><span class='ee-v'>180</span></li><li><span class='ee-k'>1:</span><span class='ee-v'>-90</span></li></ul></li><li><label class='ee-shut'>2: [180, 90]<input type='checkbox' class='ee-toggle'></label><ul><li><span class='ee-k'>0:</span><span class='ee-v'>180</span></li><li><span class='ee-k'>1:</span><span class='ee-v'>90</span></li></ul></li><li><label class='ee-shut'>3: [-180, 90]<input type='checkbox' class='ee-toggle'></label><ul><li><span class='ee-k'>0:</span><span class='ee-v'>-180</span></li><li><span class='ee-k'>1:</span><span class='ee-v'>90</span></li></ul></li><li><label class='ee-shut'>4: [-180, -90]<input type='checkbox' class='ee-toggle'></label><ul><li><span class='ee-k'>0:</span><span class='ee-v'>-180</span></li><li><span class='ee-k'>1:</span><span class='ee-v'>-90</span></li></ul></li></ul></li></ul></li><li><span class='ee-k'>system:index:</span><span class='ee-v'>2022_01_01</span></li><li><span class='ee-k'>system:time_end:</span><span class='ee-v'>1642377600000</span></li><li><span class='ee-k'>system:time_start:</span><span class='ee-v'>1640995200000</span></li></ul></li></ul></li></ul></div><script>function toggleHeader() {\n",
       "    const parent = this.parentElement;\n",
       "    parent.className = parent.className === \"ee-open\" ? \"ee-shut\" : \"ee-open\";\n",
       "}\n",
       "\n",
       "for (let c of document.getElementsByClassName(\"ee-toggle\")) {\n",
       "    c.onclick = toggleHeader;\n",
       "}</script></div>"
      ],
      "text/plain": [
       "<ee.image.Image at 0x134932e90>"
      ]
     },
     "execution_count": 117,
     "metadata": {},
     "output_type": "execute_result"
    }
   ],
   "source": [
    "# Visualize the NDVI band of the first image in the collection\n",
    "first_image_ndvi = filtered_viirs.first().select(ndvi_band)\n",
    "first_image_ndvi"
   ]
  },
  {
   "cell_type": "code",
   "execution_count": 118,
   "id": "d1aac701-b983-4a19-9d7d-08c8e6cb31c3",
   "metadata": {},
   "outputs": [
    {
     "data": {
      "text/html": [
       "\n",
       "            <style>\n",
       "                .geemap-dark {\n",
       "                    --jp-widgets-color: white;\n",
       "                    --jp-widgets-label-color: white;\n",
       "                    --jp-ui-font-color1: white;\n",
       "                    --jp-layout-color2: #454545;\n",
       "                    background-color: #383838;\n",
       "                }\n",
       "                    \n",
       "                .geemap-dark .jupyter-button {\n",
       "                    --jp-layout-color3: #383838;\n",
       "                }\n",
       "                \n",
       "                .geemap-colab {\n",
       "                    background-color: var(--colab-primary-surface-color, white);\n",
       "                }\n",
       "                    \n",
       "                .geemap-colab .jupyter-button {\n",
       "                    --jp-layout-color3: var(--colab-primary-surface-color, white);\n",
       "                }\n",
       "            </style>\n",
       "            "
      ],
      "text/plain": [
       "<IPython.core.display.HTML object>"
      ]
     },
     "metadata": {},
     "output_type": "display_data"
    },
    {
     "data": {
      "application/vnd.jupyter.widget-view+json": {
       "model_id": "3990f3a21f354c0f8a7c3282560ee7ea",
       "version_major": 2,
       "version_minor": 0
      },
      "text/plain": [
       "Map(bottom=2598.0, center=[0, 0], controls=(WidgetControl(options=['position', 'transparent_bg'], widget=Searc…"
      ]
     },
     "execution_count": 118,
     "metadata": {},
     "output_type": "execute_result"
    }
   ],
   "source": [
    "# Clip the images to the Area of Interest\n",
    "first_image_ndvi = first_image_ndvi.clip(roi)\n",
    "\n",
    "# Set visualization parameters for NDVI.\n",
    "ndvi_vis_params = {\n",
    "  'min': 0,\n",
    "  'max': 10000,\n",
    "  'palette': ['000000', '004400', '008800', '00bb00', '00ff00'],\n",
    "}\n",
    "\n",
    "# Add the NDVI layer to the map using the specified visualization parameters.\n",
    "m.addLayer(first_image_ndvi, ndvi_vis_params, 'NDVI')\n",
    "\n",
    "\n",
    "# Display the map.\n",
    "m"
   ]
  },
  {
   "cell_type": "markdown",
   "id": "23120e94-2c2c-4bbb-ac66-33ac875c044f",
   "metadata": {},
   "source": [
    "### EVI"
   ]
  },
  {
   "cell_type": "code",
   "execution_count": 67,
   "id": "dad7cb79-0cae-42aa-bd6d-4231b7ef8e2c",
   "metadata": {},
   "outputs": [
    {
     "data": {
      "text/html": [
       "\n",
       "            <style>\n",
       "                .geemap-dark {\n",
       "                    --jp-widgets-color: white;\n",
       "                    --jp-widgets-label-color: white;\n",
       "                    --jp-ui-font-color1: white;\n",
       "                    --jp-layout-color2: #454545;\n",
       "                    background-color: #383838;\n",
       "                }\n",
       "                    \n",
       "                .geemap-dark .jupyter-button {\n",
       "                    --jp-layout-color3: #383838;\n",
       "                }\n",
       "                \n",
       "                .geemap-colab {\n",
       "                    background-color: var(--colab-primary-surface-color, white);\n",
       "                }\n",
       "                    \n",
       "                .geemap-colab .jupyter-button {\n",
       "                    --jp-layout-color3: var(--colab-primary-surface-color, white);\n",
       "                }\n",
       "            </style>\n",
       "            "
      ],
      "text/plain": [
       "<IPython.core.display.HTML object>"
      ]
     },
     "metadata": {},
     "output_type": "display_data"
    },
    {
     "data": {
      "text/html": [
       "<div><style>:root {\n",
       "  --font-color-primary: var(--jp-content-font-color0, rgba(0, 0, 0, 1));\n",
       "  --font-color-secondary: var(--jp-content-font-color2, rgba(0, 0, 0, 0.6));\n",
       "  --font-color-accent: rgba(123, 31, 162, 1);\n",
       "  --border-color: var(--jp-border-color2, #e0e0e0);\n",
       "  --background-color: var(--jp-layout-color0, white);\n",
       "  --background-color-row-even: var(--jp-layout-color1, white);\n",
       "  --background-color-row-odd: var(--jp-layout-color2, #eeeeee);\n",
       "}\n",
       "\n",
       "html[theme=\"dark\"],\n",
       "body[data-theme=\"dark\"],\n",
       "body.vscode-dark {\n",
       "  --font-color-primary: rgba(255, 255, 255, 1);\n",
       "  --font-color-secondary: rgba(255, 255, 255, 0.6);\n",
       "  --font-color-accent: rgb(173, 132, 190);\n",
       "  --border-color: #2e2e2e;\n",
       "  --background-color: #111111;\n",
       "  --background-color-row-even: #111111;\n",
       "  --background-color-row-odd: #313131;\n",
       "}\n",
       "\n",
       ".ee {\n",
       "  padding: 1em;\n",
       "  line-height: 1.5em;\n",
       "  min-width: 300px;\n",
       "  max-width: 1200px;\n",
       "  overflow-y: scroll;\n",
       "  max-height: 600px;\n",
       "  border: 1px solid var(--border-color);\n",
       "  font-family: monospace;\n",
       "}\n",
       "\n",
       ".ee li {\n",
       "  list-style-type: none;\n",
       "}\n",
       "\n",
       ".ee ul {\n",
       "  padding-left: 1.5em !important;\n",
       "  margin: 0;\n",
       "}\n",
       "\n",
       ".ee > ul {\n",
       "  padding-left: 0 !important;\n",
       "}\n",
       "\n",
       ".ee-open,\n",
       ".ee-shut {\n",
       "  color: var(--font-color-secondary);\n",
       "  cursor: pointer;\n",
       "  margin: 0;\n",
       "}\n",
       "\n",
       ".ee-open:hover,\n",
       ".ee-shut:hover {\n",
       "  color: var(--font-color-primary);\n",
       "}\n",
       "\n",
       ".ee-k {\n",
       "  color: var(--font-color-accent);\n",
       "  margin-right: 6px;\n",
       "}\n",
       "\n",
       ".ee-v {\n",
       "  color: var(--font-color-primary);\n",
       "}\n",
       "\n",
       ".ee-toggle {\n",
       "  display: none;\n",
       "}\n",
       "\n",
       ".ee-shut + ul {\n",
       "  display: none;\n",
       "}\n",
       "\n",
       ".ee-open + ul {\n",
       "  display: block;\n",
       "}\n",
       "\n",
       ".ee-shut::before {\n",
       "  display: inline-block;\n",
       "  content: \"▼\";\n",
       "  margin-right: 6px;\n",
       "  transform: rotate(-90deg);\n",
       "  transition: transform 0.2s;\n",
       "}\n",
       "\n",
       ".ee-open::before {\n",
       "  transform: rotate(0deg);\n",
       "  display: inline-block;\n",
       "  content: \"▼\";\n",
       "  margin-right: 6px;\n",
       "  transition: transform 0.2s;\n",
       "}\n",
       "</style><div class='ee'><ul><li><label class='ee-shut'>Image NOAA/VIIRS/001/VNP13A1/2022_01_01 (1 band)<input type='checkbox' class='ee-toggle'></label><ul><li><span class='ee-k'>type:</span><span class='ee-v'>Image</span></li><li><span class='ee-k'>id:</span><span class='ee-v'>NOAA/VIIRS/001/VNP13A1/2022_01_01</span></li><li><span class='ee-k'>version:</span><span class='ee-v'>1702651368274597</span></li><li><label class='ee-shut'>bands: List (1 element)<input type='checkbox' class='ee-toggle'></label><ul><li><label class='ee-shut'>0: \"EVI\", signed int16, SR-ORG:6974, 86400x33600 px<input type='checkbox' class='ee-toggle'></label><ul><li><span class='ee-k'>id:</span><span class='ee-v'>EVI</span></li><li><span class='ee-k'>crs:</span><span class='ee-v'>SR-ORG:6974</span></li><li><label class='ee-shut'>crs_transform: List (6 elements)<input type='checkbox' class='ee-toggle'></label><ul><li><span class='ee-k'>0:</span><span class='ee-v'>463.3127165279165</span></li><li><span class='ee-k'>1:</span><span class='ee-v'>0</span></li><li><span class='ee-k'>2:</span><span class='ee-v'>-20015109.354</span></li><li><span class='ee-k'>3:</span><span class='ee-v'>0</span></li><li><span class='ee-k'>4:</span><span class='ee-v'>-463.3127165279165</span></li><li><span class='ee-k'>5:</span><span class='ee-v'>8895604.157333</span></li></ul></li><li><label class='ee-shut'>data_type: signed int16<input type='checkbox' class='ee-toggle'></label><ul><li><span class='ee-k'>type:</span><span class='ee-v'>PixelType</span></li><li><span class='ee-k'>max:</span><span class='ee-v'>32767</span></li><li><span class='ee-k'>min:</span><span class='ee-v'>-32768</span></li><li><span class='ee-k'>precision:</span><span class='ee-v'>int</span></li></ul></li><li><label class='ee-shut'>dimensions: [86400, 33600]<input type='checkbox' class='ee-toggle'></label><ul><li><span class='ee-k'>0:</span><span class='ee-v'>86400</span></li><li><span class='ee-k'>1:</span><span class='ee-v'>33600</span></li></ul></li></ul></li></ul></li><li><label class='ee-shut'>properties: Object (6 properties)<input type='checkbox' class='ee-toggle'></label><ul><li><span class='ee-k'>google:max_source_file_timestamp:</span><span class='ee-v'>1642414420000</span></li><li><span class='ee-k'>system:asset_size:</span><span class='ee-v'>13845272678</span></li><li><label class='ee-shut'>system:footprint: LinearRing (5 vertices)<input type='checkbox' class='ee-toggle'></label><ul><li><span class='ee-k'>type:</span><span class='ee-v'>LinearRing</span></li><li><label class='ee-shut'>coordinates: List (5 elements)<input type='checkbox' class='ee-toggle'></label><ul><li><label class='ee-shut'>0: [-180, -90]<input type='checkbox' class='ee-toggle'></label><ul><li><span class='ee-k'>0:</span><span class='ee-v'>-180</span></li><li><span class='ee-k'>1:</span><span class='ee-v'>-90</span></li></ul></li><li><label class='ee-shut'>1: [180, -90]<input type='checkbox' class='ee-toggle'></label><ul><li><span class='ee-k'>0:</span><span class='ee-v'>180</span></li><li><span class='ee-k'>1:</span><span class='ee-v'>-90</span></li></ul></li><li><label class='ee-shut'>2: [180, 90]<input type='checkbox' class='ee-toggle'></label><ul><li><span class='ee-k'>0:</span><span class='ee-v'>180</span></li><li><span class='ee-k'>1:</span><span class='ee-v'>90</span></li></ul></li><li><label class='ee-shut'>3: [-180, 90]<input type='checkbox' class='ee-toggle'></label><ul><li><span class='ee-k'>0:</span><span class='ee-v'>-180</span></li><li><span class='ee-k'>1:</span><span class='ee-v'>90</span></li></ul></li><li><label class='ee-shut'>4: [-180, -90]<input type='checkbox' class='ee-toggle'></label><ul><li><span class='ee-k'>0:</span><span class='ee-v'>-180</span></li><li><span class='ee-k'>1:</span><span class='ee-v'>-90</span></li></ul></li></ul></li></ul></li><li><span class='ee-k'>system:index:</span><span class='ee-v'>2022_01_01</span></li><li><span class='ee-k'>system:time_end:</span><span class='ee-v'>1642377600000</span></li><li><span class='ee-k'>system:time_start:</span><span class='ee-v'>1640995200000</span></li></ul></li></ul></li></ul></div><script>function toggleHeader() {\n",
       "    const parent = this.parentElement;\n",
       "    parent.className = parent.className === \"ee-open\" ? \"ee-shut\" : \"ee-open\";\n",
       "}\n",
       "\n",
       "for (let c of document.getElementsByClassName(\"ee-toggle\")) {\n",
       "    c.onclick = toggleHeader;\n",
       "}</script></div>"
      ],
      "text/plain": [
       "<ee.image.Image at 0x10a4e3dd0>"
      ]
     },
     "execution_count": 67,
     "metadata": {},
     "output_type": "execute_result"
    }
   ],
   "source": [
    "# Visualize the NDVI band of the first image in the collection\n",
    "first_image_evi = filtered_viirs.first().select(evi_band)\n",
    "first_image_evi"
   ]
  },
  {
   "cell_type": "code",
   "execution_count": 68,
   "id": "17861f56-057f-4a39-a1fa-fac0eeaffc1f",
   "metadata": {},
   "outputs": [
    {
     "data": {
      "text/html": [
       "\n",
       "            <style>\n",
       "                .geemap-dark {\n",
       "                    --jp-widgets-color: white;\n",
       "                    --jp-widgets-label-color: white;\n",
       "                    --jp-ui-font-color1: white;\n",
       "                    --jp-layout-color2: #454545;\n",
       "                    background-color: #383838;\n",
       "                }\n",
       "                    \n",
       "                .geemap-dark .jupyter-button {\n",
       "                    --jp-layout-color3: #383838;\n",
       "                }\n",
       "                \n",
       "                .geemap-colab {\n",
       "                    background-color: var(--colab-primary-surface-color, white);\n",
       "                }\n",
       "                    \n",
       "                .geemap-colab .jupyter-button {\n",
       "                    --jp-layout-color3: var(--colab-primary-surface-color, white);\n",
       "                }\n",
       "            </style>\n",
       "            "
      ],
      "text/plain": [
       "<IPython.core.display.HTML object>"
      ]
     },
     "metadata": {},
     "output_type": "display_data"
    },
    {
     "data": {
      "application/vnd.jupyter.widget-view+json": {
       "model_id": "ca01c97fa3114cf194c5d3111655c20f",
       "version_major": 2,
       "version_minor": 0
      },
      "text/plain": [
       "Map(center=[0, 0], controls=(WidgetControl(options=['position', 'transparent_bg'], widget=SearchDataGUI(childr…"
      ]
     },
     "execution_count": 68,
     "metadata": {},
     "output_type": "execute_result"
    }
   ],
   "source": [
    "# Clip the images to the Area of Interest\n",
    "first_image_evi = first_image_evi.clip(roi)\n",
    "\n",
    "# Set visualization parameters for EVI.\n",
    "evi_vis_params = {\n",
    "  'min': 0,\n",
    "  'max': 10000,\n",
    "  'palette': ['000000', '004400', '008800', '00bb00', '00ff00'],\n",
    "}\n",
    "\n",
    "# Add the NDVI layer to the map using the specified visualization parameters.\n",
    "m.addLayer(first_image_evi, evi_vis_params, 'EVI')\n",
    "\n",
    "\n",
    "# Display the map.\n",
    "m"
   ]
  },
  {
   "cell_type": "markdown",
   "id": "04820dcc-4ced-415d-a4cc-f17b775a902b",
   "metadata": {},
   "source": [
    "### Comparing NDVI vs EVI"
   ]
  },
  {
   "cell_type": "code",
   "execution_count": 69,
   "id": "16e5c932-36f3-4a0f-b1c0-11984b4ff302",
   "metadata": {},
   "outputs": [
    {
     "data": {
      "text/html": [
       "\n",
       "            <style>\n",
       "                .geemap-dark {\n",
       "                    --jp-widgets-color: white;\n",
       "                    --jp-widgets-label-color: white;\n",
       "                    --jp-ui-font-color1: white;\n",
       "                    --jp-layout-color2: #454545;\n",
       "                    background-color: #383838;\n",
       "                }\n",
       "                    \n",
       "                .geemap-dark .jupyter-button {\n",
       "                    --jp-layout-color3: #383838;\n",
       "                }\n",
       "                \n",
       "                .geemap-colab {\n",
       "                    background-color: var(--colab-primary-surface-color, white);\n",
       "                }\n",
       "                    \n",
       "                .geemap-colab .jupyter-button {\n",
       "                    --jp-layout-color3: var(--colab-primary-surface-color, white);\n",
       "                }\n",
       "            </style>\n",
       "            "
      ],
      "text/plain": [
       "<IPython.core.display.HTML object>"
      ]
     },
     "metadata": {},
     "output_type": "display_data"
    },
    {
     "data": {
      "application/vnd.jupyter.widget-view+json": {
       "model_id": "ca01c97fa3114cf194c5d3111655c20f",
       "version_major": 2,
       "version_minor": 0
      },
      "text/plain": [
       "Map(center=[-19.335922158747607, 46.738223376282626], controls=(ZoomControl(options=['position', 'zoom_in_text…"
      ]
     },
     "execution_count": 69,
     "metadata": {},
     "output_type": "execute_result"
    }
   ],
   "source": [
    "left_layer = geemap.ee_tile_layer(first_image_evi, evi_vis_params, 'EVI')\n",
    "right_layer = geemap.ee_tile_layer(first_image_ndvi, ndvi_vis_params, 'NDVI')\n",
    "\n",
    "m.split_map(left_layer, right_layer)\n",
    "m.center_object(roi, 5)\n",
    "m"
   ]
  },
  {
   "cell_type": "markdown",
   "id": "04ca33b6-4542-4ede-99ef-fa7d5cb8e4ef",
   "metadata": {},
   "source": [
    "# NDVI Calculations"
   ]
  },
  {
   "cell_type": "markdown",
   "id": "249696c5-80cc-4238-89f6-06ad8788d934",
   "metadata": {},
   "source": [
    "## N-Day Anomaly Calculations"
   ]
  },
  {
   "cell_type": "markdown",
   "id": "4310a270-2bf5-4350-8d01-6a98ca9b13f0",
   "metadata": {},
   "source": [
    "### Set Time Frame\n"
   ]
  },
  {
   "cell_type": "code",
   "execution_count": 120,
   "id": "fabdde7d-a823-4d07-9329-9a94a7a2a50b",
   "metadata": {},
   "outputs": [
    {
     "data": {
      "text/html": [
       "\n",
       "            <style>\n",
       "                .geemap-dark {\n",
       "                    --jp-widgets-color: white;\n",
       "                    --jp-widgets-label-color: white;\n",
       "                    --jp-ui-font-color1: white;\n",
       "                    --jp-layout-color2: #454545;\n",
       "                    background-color: #383838;\n",
       "                }\n",
       "                    \n",
       "                .geemap-dark .jupyter-button {\n",
       "                    --jp-layout-color3: #383838;\n",
       "                }\n",
       "                \n",
       "                .geemap-colab {\n",
       "                    background-color: var(--colab-primary-surface-color, white);\n",
       "                }\n",
       "                    \n",
       "                .geemap-colab .jupyter-button {\n",
       "                    --jp-layout-color3: var(--colab-primary-surface-color, white);\n",
       "                }\n",
       "            </style>\n",
       "            "
      ],
      "text/plain": [
       "<IPython.core.display.HTML object>"
      ]
     },
     "metadata": {},
     "output_type": "display_data"
    }
   ],
   "source": [
    "firstimage = ee.Date(ee.List(selected_bands.get('date_range')).get(0))\n",
    "latestimage = ee.Date(selected_bands.limit(1, 'system:time_start',  False).first().get('system:time_start'))"
   ]
  },
  {
   "cell_type": "code",
   "execution_count": 121,
   "id": "1fade44b-9109-4aea-950d-db740dfd62e5",
   "metadata": {},
   "outputs": [
    {
     "data": {
      "text/html": [
       "\n",
       "            <style>\n",
       "                .geemap-dark {\n",
       "                    --jp-widgets-color: white;\n",
       "                    --jp-widgets-label-color: white;\n",
       "                    --jp-ui-font-color1: white;\n",
       "                    --jp-layout-color2: #454545;\n",
       "                    background-color: #383838;\n",
       "                }\n",
       "                    \n",
       "                .geemap-dark .jupyter-button {\n",
       "                    --jp-layout-color3: #383838;\n",
       "                }\n",
       "                \n",
       "                .geemap-colab {\n",
       "                    background-color: var(--colab-primary-surface-color, white);\n",
       "                }\n",
       "                    \n",
       "                .geemap-colab .jupyter-button {\n",
       "                    --jp-layout-color3: var(--colab-primary-surface-color, white);\n",
       "                }\n",
       "            </style>\n",
       "            "
      ],
      "text/plain": [
       "<IPython.core.display.HTML object>"
      ]
     },
     "metadata": {},
     "output_type": "display_data"
    },
    {
     "name": "stdout",
     "output_type": "stream",
     "text": [
      "The observed time period for VIIRS begins on 2012-01-17 and ends on 2024-02-02\n"
     ]
    }
   ],
   "source": [
    "print(f\"The observed time period for VIIRS begins on \" + \n",
    "      f\"{firstimage.format('YYYY-MM-dd').getInfo()} and ends on \" + \n",
    "      f\"{latestimage.format('YYYY-MM-dd').getInfo()}\")"
   ]
  },
  {
   "cell_type": "code",
   "execution_count": 122,
   "id": "a6501f25-f172-4e34-948e-828eef16e4e4",
   "metadata": {},
   "outputs": [
    {
     "data": {
      "text/html": [
       "\n",
       "            <style>\n",
       "                .geemap-dark {\n",
       "                    --jp-widgets-color: white;\n",
       "                    --jp-widgets-label-color: white;\n",
       "                    --jp-ui-font-color1: white;\n",
       "                    --jp-layout-color2: #454545;\n",
       "                    background-color: #383838;\n",
       "                }\n",
       "                    \n",
       "                .geemap-dark .jupyter-button {\n",
       "                    --jp-layout-color3: #383838;\n",
       "                }\n",
       "                \n",
       "                .geemap-colab {\n",
       "                    background-color: var(--colab-primary-surface-color, white);\n",
       "                }\n",
       "                    \n",
       "                .geemap-colab .jupyter-button {\n",
       "                    --jp-layout-color3: var(--colab-primary-surface-color, white);\n",
       "                }\n",
       "            </style>\n",
       "            "
      ],
      "text/plain": [
       "<IPython.core.display.HTML object>"
      ]
     },
     "metadata": {},
     "output_type": "display_data"
    }
   ],
   "source": [
    "# Set the parameters\n",
    "\n",
    "interval = 16 #Change it to the appropriate N-Day calculations you want to do\n",
    "increment = 'day'\n",
    "monitor_year = 2022 \n",
    "monitor_month = 10 \n",
    "\n",
    "\n",
    "# Define the time range you're interested in.\n",
    "start = '2018-01-01'\n",
    "end = f\"{latestimage.format('YYYY-MM-dd').getInfo()}\"\n",
    "\n",
    "filtered_viirs = selected_bands.filterDate(start_date, end_date)"
   ]
  },
  {
   "cell_type": "code",
   "execution_count": 123,
   "id": "d4b1e3a9-0863-4ff7-aa3a-3b77ade597a2",
   "metadata": {},
   "outputs": [
    {
     "data": {
      "text/html": [
       "\n",
       "            <style>\n",
       "                .geemap-dark {\n",
       "                    --jp-widgets-color: white;\n",
       "                    --jp-widgets-label-color: white;\n",
       "                    --jp-ui-font-color1: white;\n",
       "                    --jp-layout-color2: #454545;\n",
       "                    background-color: #383838;\n",
       "                }\n",
       "                    \n",
       "                .geemap-dark .jupyter-button {\n",
       "                    --jp-layout-color3: #383838;\n",
       "                }\n",
       "                \n",
       "                .geemap-colab {\n",
       "                    background-color: var(--colab-primary-surface-color, white);\n",
       "                }\n",
       "                    \n",
       "                .geemap-colab .jupyter-button {\n",
       "                    --jp-layout-color3: var(--colab-primary-surface-color, white);\n",
       "                }\n",
       "            </style>\n",
       "            "
      ],
      "text/plain": [
       "<IPython.core.display.HTML object>"
      ]
     },
     "metadata": {},
     "output_type": "display_data"
    }
   ],
   "source": [
    "# Convert the start date string to an ee.Date object\n",
    "startDate = ee.Date(start)\n",
    "\n",
    "# Advance the start date by the interval and convert to milliseconds\n",
    "secondDate = startDate.advance(interval, increment).millis()\n",
    "\n",
    "# Calculate the increase in milliseconds between the start and second date\n",
    "increase = secondDate.subtract(startDate.millis())\n",
    "\n",
    "# Generate a list of milliseconds from the start date to the end date, by the calculated increment\n",
    "decad_list = ee.List.sequence(startDate.millis(), ee.Date('2019-01-01').millis(), increase)"
   ]
  },
  {
   "cell_type": "markdown",
   "id": "59342ff8-aefd-4dea-b891-5f967cdf1f2d",
   "metadata": {},
   "source": [
    "This 'decad_list' contains the starting milliseconds for each period in the sequence. This list is used to map over each date, applying a function that filters the VIIRS ImageCollection to the specific decadal period, then computes the mean and standard deviation for that period.\n",
    "\n",
    "ee.Filter.calendarRange is used to filter the modis ImageCollection to images within each decadal period specified by the start and end days of the year. The .set method is used to add a property ('day_of_year') to each resulting image, indicating the start day of the year for the decadal period."
   ]
  },
  {
   "cell_type": "code",
   "execution_count": 124,
   "id": "9073f923-3239-4b81-a9d6-b3e6d5fec67d",
   "metadata": {},
   "outputs": [
    {
     "data": {
      "text/html": [
       "\n",
       "            <style>\n",
       "                .geemap-dark {\n",
       "                    --jp-widgets-color: white;\n",
       "                    --jp-widgets-label-color: white;\n",
       "                    --jp-ui-font-color1: white;\n",
       "                    --jp-layout-color2: #454545;\n",
       "                    background-color: #383838;\n",
       "                }\n",
       "                    \n",
       "                .geemap-dark .jupyter-button {\n",
       "                    --jp-layout-color3: #383838;\n",
       "                }\n",
       "                \n",
       "                .geemap-colab {\n",
       "                    background-color: var(--colab-primary-surface-color, white);\n",
       "                }\n",
       "                    \n",
       "                .geemap-colab .jupyter-button {\n",
       "                    --jp-layout-color3: var(--colab-primary-surface-color, white);\n",
       "                }\n",
       "            </style>\n",
       "            "
      ],
      "text/plain": [
       "<IPython.core.display.HTML object>"
      ]
     },
     "metadata": {},
     "output_type": "display_data"
    }
   ],
   "source": [
    "# Select the NDVI band\n",
    "\n",
    "ndvi = filtered_viirs.select(ndvi_band)\n",
    "\n",
    "# Calculate mean images for each decadal period\n",
    "\n",
    "means = ee.ImageCollection(decad_list.map(lambda date: ndvi.filter(\n",
    "    ee.Filter.calendarRange(\n",
    "        ee.Date(date).getRelative('day', 'year'), \n",
    "        ee.Date(date).advance(interval, increment).getRelative('day', 'year')\n",
    "    )\n",
    ").mean().set('day_of_year', ee.Date(date).getRelative('day', 'year'))))\n",
    "\n",
    "# Calculate standard deviation images for each decadal period\n",
    "std_devs = ee.ImageCollection(decad_list.map(lambda date: ndvi.filter(\n",
    "    ee.Filter.calendarRange(\n",
    "        ee.Date(date).getRelative('day', 'year'), \n",
    "        ee.Date(date).advance(interval, increment).getRelative('day', 'year')\n",
    "    )\n",
    ").reduce(ee.Reducer.stdDev()).set('day_of_year', ee.Date(date).getRelative('day', 'year'))))"
   ]
  },
  {
   "cell_type": "markdown",
   "id": "e1737f2a-9094-4c64-ad8e-60ab9097f67e",
   "metadata": {},
   "source": [
    "This code snippet sets a time range to run through, calculates the latest data date, and generates a list of decadal (or specified interval) dates within the window from the start date to the minimum of the window's maximum end date or the latest data date available.\n",
    "\n",
    "- The reduceColumns function is used to get the minimum and maximum of the \"system:time_start\" property in the NDVI dataset, identifying the latest data date.\n",
    "- The window's start and end dates are defined to set the period you're interested in. The end date is the minimum of the window's maximum end date or the latest data available in the dataset.\n",
    "- The ee.List.sequence function generates a list of dates (in milliseconds since the epoch) from the window's start date to its end date, stepping by the specified interval and increment."
   ]
  },
  {
   "cell_type": "code",
   "execution_count": 125,
   "id": "d8d881dc-4b06-4668-ad29-b4e98c693024",
   "metadata": {},
   "outputs": [
    {
     "data": {
      "text/html": [
       "\n",
       "            <style>\n",
       "                .geemap-dark {\n",
       "                    --jp-widgets-color: white;\n",
       "                    --jp-widgets-label-color: white;\n",
       "                    --jp-ui-font-color1: white;\n",
       "                    --jp-layout-color2: #454545;\n",
       "                    background-color: #383838;\n",
       "                }\n",
       "                    \n",
       "                .geemap-dark .jupyter-button {\n",
       "                    --jp-layout-color3: #383838;\n",
       "                }\n",
       "                \n",
       "                .geemap-colab {\n",
       "                    background-color: var(--colab-primary-surface-color, white);\n",
       "                }\n",
       "                    \n",
       "                .geemap-colab .jupyter-button {\n",
       "                    --jp-layout-color3: var(--colab-primary-surface-color, white);\n",
       "                }\n",
       "            </style>\n",
       "            "
      ],
      "text/plain": [
       "<IPython.core.display.HTML object>"
      ]
     },
     "metadata": {},
     "output_type": "display_data"
    }
   ],
   "source": [
    "# Set time range to run through\n",
    "windowStartDate = ee.Date.fromYMD(monitor_year, monitor_month, 1)\n",
    "windowMaxEndDate = windowStartDate.advance(90, 'day')  # This is the absolute latest date\n",
    "\n",
    "# Get the range of dates in the dataset\n",
    "range = ndvi.reduceColumns(ee.Reducer.minMax(), [\"system:time_start\"])\n",
    "latestDataDate = ee.Date(range.get('max'))\n",
    "\n",
    "# Calculate the window end date as the minimum of windowMaxEndDate and latestDataDate\n",
    "windowEndDate = ee.Date(ee.Number(windowMaxEndDate.millis()).min(ee.Number(latestDataDate.millis())))\n",
    "\n",
    "# Calculate the second window date and the increase in milliseconds\n",
    "secondWindowDate = windowStartDate.advance(interval, increment).millis()\n",
    "windowIncrease = secondWindowDate.subtract(windowStartDate.millis())\n",
    "\n",
    "# Generate a list of dates (milliseconds) from windowStartDate to windowEndDate by the calculated increase\n",
    "window_decad_list = ee.List.sequence(windowStartDate.millis(), windowEndDate.millis(), windowIncrease)"
   ]
  },
  {
   "cell_type": "markdown",
   "id": "c4fb8b78-f5d1-4d99-9db8-1c0b21c52973",
   "metadata": {},
   "source": [
    "The following code focuses on the process of grouping images by decad (a ten-day period or a custom definition based on your interval), then reducing within those groups by the mean. This process involves creating an ImageCollection where each image represents the mean of images within each group, adjusted by subtracting the mean and dividing by the standard deviation for the same period."
   ]
  },
  {
   "cell_type": "code",
   "execution_count": 129,
   "id": "00f0dc3a-9802-4d49-9231-ec7114a77fe3",
   "metadata": {},
   "outputs": [
    {
     "data": {
      "text/html": [
       "\n",
       "            <style>\n",
       "                .geemap-dark {\n",
       "                    --jp-widgets-color: white;\n",
       "                    --jp-widgets-label-color: white;\n",
       "                    --jp-ui-font-color1: white;\n",
       "                    --jp-layout-color2: #454545;\n",
       "                    background-color: #383838;\n",
       "                }\n",
       "                    \n",
       "                .geemap-dark .jupyter-button {\n",
       "                    --jp-layout-color3: #383838;\n",
       "                }\n",
       "                \n",
       "                .geemap-colab {\n",
       "                    background-color: var(--colab-primary-surface-color, white);\n",
       "                }\n",
       "                    \n",
       "                .geemap-colab .jupyter-button {\n",
       "                    --jp-layout-color3: var(--colab-primary-surface-color, white);\n",
       "                }\n",
       "            </style>\n",
       "            "
      ],
      "text/plain": [
       "<IPython.core.display.HTML object>"
      ]
     },
     "metadata": {},
     "output_type": "display_data"
    }
   ],
   "source": [
    "# Function to process each date in the list\n",
    "def process_date(date):\n",
    "    '''\n",
    "    The process_date function calculates the \"decad\" value by rounding the day of the year to the nearest \n",
    "    interval you're interested in. For each date, it filters the NDVI ImageCollection to images within the \n",
    "    specified range, computes their mean, and then adjusts this mean by subtracting the precomputed mean and \n",
    "    dividing by the precomputed standard deviation for the same interval.\n",
    "\n",
    "    '''\n",
    "    date = ee.Date(date)\n",
    "    decad = date.getRelative('day', 'year').divide(16).round().multiply(16)  # Adjust the rounding as needed\n",
    "\n",
    "    # Filter the NDVI collection within the date range and calculate the mean\n",
    "    mean = ndvi.filterDate(date, date.advance(interval, increment)) \\\n",
    "                .mean() \\\n",
    "                .set('day_of_year', decad)\n",
    "    \n",
    "    # Subtract the overall mean and divide by the standard deviation for the same period\n",
    "    # means and std_devs are assumed to be ImageCollections where each image is annotated \n",
    "    # with a day_of_year property corresponding to its decad. They are used to normalize \n",
    "    # the computed mean for each period.\n",
    "    adjusted_mean = mean.subtract(\n",
    "        means.filter(ee.Filter.eq('day_of_year', decad)).first()\n",
    "    ).divide(\n",
    "        std_devs.filter(ee.Filter.eq('day_of_year', decad)).first()\n",
    "    ).set({\n",
    "        'day_of_year': decad,\n",
    "        'date': date.millis()\n",
    "    })\n",
    "    \n",
    "    return adjusted_mean\n",
    "\n",
    "# Apply the function to each date in the window_decad_list to create a new ImageCollection\n",
    "\n",
    "bydecad = ee.ImageCollection.fromImages(window_decad_list.map(process_date))\n",
    "\n",
    "# byDecad, is an ImageCollection with one image per period, each adjusted by the corresponding \n",
    "# period's mean and standard deviation."
   ]
  },
  {
   "cell_type": "code",
   "execution_count": 130,
   "id": "0c7ccce5-796f-4865-b4f8-16575c318bba",
   "metadata": {},
   "outputs": [
    {
     "data": {
      "text/html": [
       "\n",
       "            <style>\n",
       "                .geemap-dark {\n",
       "                    --jp-widgets-color: white;\n",
       "                    --jp-widgets-label-color: white;\n",
       "                    --jp-ui-font-color1: white;\n",
       "                    --jp-layout-color2: #454545;\n",
       "                    background-color: #383838;\n",
       "                }\n",
       "                    \n",
       "                .geemap-dark .jupyter-button {\n",
       "                    --jp-layout-color3: #383838;\n",
       "                }\n",
       "                \n",
       "                .geemap-colab {\n",
       "                    background-color: var(--colab-primary-surface-color, white);\n",
       "                }\n",
       "                    \n",
       "                .geemap-colab .jupyter-button {\n",
       "                    --jp-layout-color3: var(--colab-primary-surface-color, white);\n",
       "                }\n",
       "            </style>\n",
       "            "
      ],
      "text/plain": [
       "<IPython.core.display.HTML object>"
      ]
     },
     "metadata": {},
     "output_type": "display_data"
    },
    {
     "data": {
      "application/vnd.jupyter.widget-view+json": {
       "model_id": "3990f3a21f354c0f8a7c3282560ee7ea",
       "version_major": 2,
       "version_minor": 0
      },
      "text/plain": [
       "Map(bottom=18314.0, center=[-18.778447291809044, 46.840154327781306], controls=(WidgetControl(options=['positi…"
      ]
     },
     "execution_count": 130,
     "metadata": {},
     "output_type": "execute_result"
    }
   ],
   "source": [
    "# Clip all images in the ImageCollection to the roi\n",
    "bydecad_clipped = bydecad.map(lambda image: image.clip(roi))\n",
    "\n",
    "vis_params = {\n",
    "    'min': -3.0,\n",
    "    'max': 3.0,\n",
    "    'palette': ['a36437', 'FCD163', '207401'],\n",
    "}\n",
    "\n",
    "# Add the NDVI layer to the map using the specified visualization parameters.\n",
    "# Since byDecad_clipped is an ImageCollection, you cannot directly add it as a layer.\n",
    "# You could add specific images, or composite the collection. Here, we'll add the first image as an example:\n",
    "first_image = bydecad_clipped.first()\n",
    "\n",
    "m.addLayer(first_image, vis_params, 'NDVI Anomaly Analysis')\n",
    "#m.add_time_slider(images, vis_params, time_interval=2)\n",
    "\n",
    "# Center the map around the region of interest\n",
    "m.centerObject(roi)\n",
    "\n",
    "# Display the map.\n",
    "m"
   ]
  }
 ],
 "metadata": {
  "kernelspec": {
   "display_name": "Python 3 (ipykernel)",
   "language": "python",
   "name": "python3"
  },
  "language_info": {
   "codemirror_mode": {
    "name": "ipython",
    "version": 3
   },
   "file_extension": ".py",
   "mimetype": "text/x-python",
   "name": "python",
   "nbconvert_exporter": "python",
   "pygments_lexer": "ipython3",
   "version": "3.11.7"
  }
 },
 "nbformat": 4,
 "nbformat_minor": 5
}
